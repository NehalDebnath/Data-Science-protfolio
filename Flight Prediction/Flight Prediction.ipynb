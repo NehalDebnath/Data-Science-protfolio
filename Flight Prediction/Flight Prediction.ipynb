{
 "cells": [
  {
   "cell_type": "markdown",
   "metadata": {},
   "source": [
    "# Project Name:\n"
   ]
  },
  {
   "cell_type": "code",
   "execution_count": 1,
   "metadata": {},
   "outputs": [],
   "source": [
    "#loading required libraries\n",
    "import numpy as np\n",
    "import pandas as pd\n",
    "import matplotlib.pyplot as plt\n",
    "import seaborn as sns\n",
    "import statsmodels.api as sm\n",
    "import pylab\n",
    "import statistics as st\n",
    "from scipy import stats\n",
    "from sklearn import metrics\n",
    "from sklearn.model_selection import train_test_split\n",
    "from sklearn.ensemble import RandomForestClassifier\n",
    "from sklearn.metrics import accuracy_score\n",
    "from sklearn.metrics import f1_score, roc_auc_score, roc_curve\n",
    "from sklearn.metrics import confusion_matrix"
   ]
  },
  {
   "cell_type": "markdown",
   "metadata": {},
   "source": [
    "IMPORTING THE DATABASE"
   ]
  },
  {
   "cell_type": "code",
   "execution_count": 2,
   "metadata": {},
   "outputs": [
    {
     "data": {
      "text/html": [
       "<div>\n",
       "<style scoped>\n",
       "    .dataframe tbody tr th:only-of-type {\n",
       "        vertical-align: middle;\n",
       "    }\n",
       "\n",
       "    .dataframe tbody tr th {\n",
       "        vertical-align: top;\n",
       "    }\n",
       "\n",
       "    .dataframe thead th {\n",
       "        text-align: right;\n",
       "    }\n",
       "</style>\n",
       "<table border=\"1\" class=\"dataframe\">\n",
       "  <thead>\n",
       "    <tr style=\"text-align: right;\">\n",
       "      <th></th>\n",
       "      <th>w</th>\n",
       "      <th>DayofMonth</th>\n",
       "      <th>DayOfWeek</th>\n",
       "      <th>DepTime</th>\n",
       "      <th>CRSDepTime</th>\n",
       "      <th>ArrTime</th>\n",
       "      <th>CRSArrTime</th>\n",
       "      <th>FlightNum</th>\n",
       "      <th>ActualElapsedTime</th>\n",
       "      <th>CRSElapsedTime</th>\n",
       "      <th>ArrDelay</th>\n",
       "      <th>Distance</th>\n",
       "      <th>DepDelay</th>\n",
       "    </tr>\n",
       "  </thead>\n",
       "  <tbody>\n",
       "    <tr>\n",
       "      <td>0</td>\n",
       "      <td>10.0</td>\n",
       "      <td>14.0</td>\n",
       "      <td>3.0</td>\n",
       "      <td>741.0</td>\n",
       "      <td>730.0</td>\n",
       "      <td>912.0</td>\n",
       "      <td>849.0</td>\n",
       "      <td>1451.0</td>\n",
       "      <td>91.0</td>\n",
       "      <td>79.0</td>\n",
       "      <td>23.0</td>\n",
       "      <td>447.0</td>\n",
       "      <td>11.0</td>\n",
       "    </tr>\n",
       "    <tr>\n",
       "      <td>1</td>\n",
       "      <td>10.0</td>\n",
       "      <td>15.0</td>\n",
       "      <td>4.0</td>\n",
       "      <td>729.0</td>\n",
       "      <td>730.0</td>\n",
       "      <td>903.0</td>\n",
       "      <td>849.0</td>\n",
       "      <td>1451.0</td>\n",
       "      <td>94.0</td>\n",
       "      <td>79.0</td>\n",
       "      <td>14.0</td>\n",
       "      <td>447.0</td>\n",
       "      <td>-1.0</td>\n",
       "    </tr>\n",
       "    <tr>\n",
       "      <td>2</td>\n",
       "      <td>10.0</td>\n",
       "      <td>17.0</td>\n",
       "      <td>6.0</td>\n",
       "      <td>741.0</td>\n",
       "      <td>730.0</td>\n",
       "      <td>918.0</td>\n",
       "      <td>849.0</td>\n",
       "      <td>1451.0</td>\n",
       "      <td>97.0</td>\n",
       "      <td>79.0</td>\n",
       "      <td>29.0</td>\n",
       "      <td>447.0</td>\n",
       "      <td>11.0</td>\n",
       "    </tr>\n",
       "    <tr>\n",
       "      <td>3</td>\n",
       "      <td>10.0</td>\n",
       "      <td>18.0</td>\n",
       "      <td>7.0</td>\n",
       "      <td>729.0</td>\n",
       "      <td>730.0</td>\n",
       "      <td>847.0</td>\n",
       "      <td>849.0</td>\n",
       "      <td>1451.0</td>\n",
       "      <td>78.0</td>\n",
       "      <td>79.0</td>\n",
       "      <td>-2.0</td>\n",
       "      <td>447.0</td>\n",
       "      <td>-1.0</td>\n",
       "    </tr>\n",
       "    <tr>\n",
       "      <td>4</td>\n",
       "      <td>10.0</td>\n",
       "      <td>19.0</td>\n",
       "      <td>1.0</td>\n",
       "      <td>749.0</td>\n",
       "      <td>730.0</td>\n",
       "      <td>922.0</td>\n",
       "      <td>849.0</td>\n",
       "      <td>1451.0</td>\n",
       "      <td>93.0</td>\n",
       "      <td>79.0</td>\n",
       "      <td>33.0</td>\n",
       "      <td>447.0</td>\n",
       "      <td>19.0</td>\n",
       "    </tr>\n",
       "    <tr>\n",
       "      <td>...</td>\n",
       "      <td>...</td>\n",
       "      <td>...</td>\n",
       "      <td>...</td>\n",
       "      <td>...</td>\n",
       "      <td>...</td>\n",
       "      <td>...</td>\n",
       "      <td>...</td>\n",
       "      <td>...</td>\n",
       "      <td>...</td>\n",
       "      <td>...</td>\n",
       "      <td>...</td>\n",
       "      <td>...</td>\n",
       "      <td>...</td>\n",
       "    </tr>\n",
       "    <tr>\n",
       "      <td>1048570</td>\n",
       "      <td>12.0</td>\n",
       "      <td>14.0</td>\n",
       "      <td>1.0</td>\n",
       "      <td>830.0</td>\n",
       "      <td>830.0</td>\n",
       "      <td>940.0</td>\n",
       "      <td>930.0</td>\n",
       "      <td>244.0</td>\n",
       "      <td>70.0</td>\n",
       "      <td>60.0</td>\n",
       "      <td>10.0</td>\n",
       "      <td>214.0</td>\n",
       "      <td>0.0</td>\n",
       "    </tr>\n",
       "    <tr>\n",
       "      <td>1048571</td>\n",
       "      <td>12.0</td>\n",
       "      <td>15.0</td>\n",
       "      <td>2.0</td>\n",
       "      <td>830.0</td>\n",
       "      <td>830.0</td>\n",
       "      <td>936.0</td>\n",
       "      <td>930.0</td>\n",
       "      <td>244.0</td>\n",
       "      <td>66.0</td>\n",
       "      <td>60.0</td>\n",
       "      <td>6.0</td>\n",
       "      <td>214.0</td>\n",
       "      <td>0.0</td>\n",
       "    </tr>\n",
       "    <tr>\n",
       "      <td>1048572</td>\n",
       "      <td>12.0</td>\n",
       "      <td>16.0</td>\n",
       "      <td>3.0</td>\n",
       "      <td>905.0</td>\n",
       "      <td>830.0</td>\n",
       "      <td>959.0</td>\n",
       "      <td>930.0</td>\n",
       "      <td>244.0</td>\n",
       "      <td>54.0</td>\n",
       "      <td>60.0</td>\n",
       "      <td>29.0</td>\n",
       "      <td>214.0</td>\n",
       "      <td>35.0</td>\n",
       "    </tr>\n",
       "    <tr>\n",
       "      <td>1048573</td>\n",
       "      <td>12.0</td>\n",
       "      <td>17.0</td>\n",
       "      <td>4.0</td>\n",
       "      <td>830.0</td>\n",
       "      <td>830.0</td>\n",
       "      <td>940.0</td>\n",
       "      <td>930.0</td>\n",
       "      <td>244.0</td>\n",
       "      <td>70.0</td>\n",
       "      <td>60.0</td>\n",
       "      <td>10.0</td>\n",
       "      <td>214.0</td>\n",
       "      <td>0.0</td>\n",
       "    </tr>\n",
       "    <tr>\n",
       "      <td>1048574</td>\n",
       "      <td>12.0</td>\n",
       "      <td>18.0</td>\n",
       "      <td>5.0</td>\n",
       "      <td>830.0</td>\n",
       "      <td>830.0</td>\n",
       "      <td>935.0</td>\n",
       "      <td>930.0</td>\n",
       "      <td>244.0</td>\n",
       "      <td>65.0</td>\n",
       "      <td>60.0</td>\n",
       "      <td>5.0</td>\n",
       "      <td>214.0</td>\n",
       "      <td>0.0</td>\n",
       "    </tr>\n",
       "  </tbody>\n",
       "</table>\n",
       "<p>1048575 rows × 13 columns</p>\n",
       "</div>"
      ],
      "text/plain": [
       "            w  DayofMonth  DayOfWeek  DepTime  CRSDepTime  ArrTime  \\\n",
       "0        10.0        14.0        3.0    741.0       730.0    912.0   \n",
       "1        10.0        15.0        4.0    729.0       730.0    903.0   \n",
       "2        10.0        17.0        6.0    741.0       730.0    918.0   \n",
       "3        10.0        18.0        7.0    729.0       730.0    847.0   \n",
       "4        10.0        19.0        1.0    749.0       730.0    922.0   \n",
       "...       ...         ...        ...      ...         ...      ...   \n",
       "1048570  12.0        14.0        1.0    830.0       830.0    940.0   \n",
       "1048571  12.0        15.0        2.0    830.0       830.0    936.0   \n",
       "1048572  12.0        16.0        3.0    905.0       830.0    959.0   \n",
       "1048573  12.0        17.0        4.0    830.0       830.0    940.0   \n",
       "1048574  12.0        18.0        5.0    830.0       830.0    935.0   \n",
       "\n",
       "         CRSArrTime  FlightNum  ActualElapsedTime  CRSElapsedTime  ArrDelay  \\\n",
       "0             849.0     1451.0               91.0            79.0      23.0   \n",
       "1             849.0     1451.0               94.0            79.0      14.0   \n",
       "2             849.0     1451.0               97.0            79.0      29.0   \n",
       "3             849.0     1451.0               78.0            79.0      -2.0   \n",
       "4             849.0     1451.0               93.0            79.0      33.0   \n",
       "...             ...        ...                ...             ...       ...   \n",
       "1048570       930.0      244.0               70.0            60.0      10.0   \n",
       "1048571       930.0      244.0               66.0            60.0       6.0   \n",
       "1048572       930.0      244.0               54.0            60.0      29.0   \n",
       "1048573       930.0      244.0               70.0            60.0      10.0   \n",
       "1048574       930.0      244.0               65.0            60.0       5.0   \n",
       "\n",
       "         Distance  DepDelay  \n",
       "0           447.0      11.0  \n",
       "1           447.0      -1.0  \n",
       "2           447.0      11.0  \n",
       "3           447.0      -1.0  \n",
       "4           447.0      19.0  \n",
       "...           ...       ...  \n",
       "1048570     214.0       0.0  \n",
       "1048571     214.0       0.0  \n",
       "1048572     214.0      35.0  \n",
       "1048573     214.0       0.0  \n",
       "1048574     214.0       0.0  \n",
       "\n",
       "[1048575 rows x 13 columns]"
      ]
     },
     "execution_count": 2,
     "metadata": {},
     "output_type": "execute_result"
    }
   ],
   "source": [
    "df = pd.read_csv(\"C:/DATA SCIENCE/Python/PyCharm Community Edition 2019.3.2/ASSIGNMENT/Flight1987(pyt).csv\")\n",
    "df"
   ]
  },
  {
   "cell_type": "markdown",
   "metadata": {},
   "source": [
    "DATA OVERVIEW STEPS BEFORE DATA CLEANING TO UNDERSTAND DATA"
   ]
  },
  {
   "cell_type": "code",
   "execution_count": 3,
   "metadata": {},
   "outputs": [
    {
     "data": {
      "text/plain": [
       "Index(['w', 'DayofMonth', 'DayOfWeek', 'DepTime', 'CRSDepTime', 'ArrTime',\n",
       "       'CRSArrTime', 'FlightNum', 'ActualElapsedTime', 'CRSElapsedTime',\n",
       "       'ArrDelay', 'Distance', 'DepDelay'],\n",
       "      dtype='object')"
      ]
     },
     "execution_count": 3,
     "metadata": {},
     "output_type": "execute_result"
    }
   ],
   "source": [
    "df.columns"
   ]
  },
  {
   "cell_type": "code",
   "execution_count": 4,
   "metadata": {},
   "outputs": [
    {
     "data": {
      "text/html": [
       "<div>\n",
       "<style scoped>\n",
       "    .dataframe tbody tr th:only-of-type {\n",
       "        vertical-align: middle;\n",
       "    }\n",
       "\n",
       "    .dataframe tbody tr th {\n",
       "        vertical-align: top;\n",
       "    }\n",
       "\n",
       "    .dataframe thead th {\n",
       "        text-align: right;\n",
       "    }\n",
       "</style>\n",
       "<table border=\"1\" class=\"dataframe\">\n",
       "  <thead>\n",
       "    <tr style=\"text-align: right;\">\n",
       "      <th></th>\n",
       "      <th>w</th>\n",
       "      <th>DayofMonth</th>\n",
       "      <th>DayOfWeek</th>\n",
       "      <th>DepTime</th>\n",
       "      <th>CRSDepTime</th>\n",
       "      <th>ArrTime</th>\n",
       "      <th>CRSArrTime</th>\n",
       "      <th>FlightNum</th>\n",
       "      <th>ActualElapsedTime</th>\n",
       "      <th>CRSElapsedTime</th>\n",
       "      <th>ArrDelay</th>\n",
       "      <th>Distance</th>\n",
       "      <th>DepDelay</th>\n",
       "    </tr>\n",
       "  </thead>\n",
       "  <tbody>\n",
       "    <tr>\n",
       "      <td>0</td>\n",
       "      <td>10.0</td>\n",
       "      <td>14.0</td>\n",
       "      <td>3.0</td>\n",
       "      <td>741.0</td>\n",
       "      <td>730.0</td>\n",
       "      <td>912.0</td>\n",
       "      <td>849.0</td>\n",
       "      <td>1451.0</td>\n",
       "      <td>91.0</td>\n",
       "      <td>79.0</td>\n",
       "      <td>23.0</td>\n",
       "      <td>447.0</td>\n",
       "      <td>11.0</td>\n",
       "    </tr>\n",
       "    <tr>\n",
       "      <td>1</td>\n",
       "      <td>10.0</td>\n",
       "      <td>15.0</td>\n",
       "      <td>4.0</td>\n",
       "      <td>729.0</td>\n",
       "      <td>730.0</td>\n",
       "      <td>903.0</td>\n",
       "      <td>849.0</td>\n",
       "      <td>1451.0</td>\n",
       "      <td>94.0</td>\n",
       "      <td>79.0</td>\n",
       "      <td>14.0</td>\n",
       "      <td>447.0</td>\n",
       "      <td>-1.0</td>\n",
       "    </tr>\n",
       "    <tr>\n",
       "      <td>2</td>\n",
       "      <td>10.0</td>\n",
       "      <td>17.0</td>\n",
       "      <td>6.0</td>\n",
       "      <td>741.0</td>\n",
       "      <td>730.0</td>\n",
       "      <td>918.0</td>\n",
       "      <td>849.0</td>\n",
       "      <td>1451.0</td>\n",
       "      <td>97.0</td>\n",
       "      <td>79.0</td>\n",
       "      <td>29.0</td>\n",
       "      <td>447.0</td>\n",
       "      <td>11.0</td>\n",
       "    </tr>\n",
       "    <tr>\n",
       "      <td>3</td>\n",
       "      <td>10.0</td>\n",
       "      <td>18.0</td>\n",
       "      <td>7.0</td>\n",
       "      <td>729.0</td>\n",
       "      <td>730.0</td>\n",
       "      <td>847.0</td>\n",
       "      <td>849.0</td>\n",
       "      <td>1451.0</td>\n",
       "      <td>78.0</td>\n",
       "      <td>79.0</td>\n",
       "      <td>-2.0</td>\n",
       "      <td>447.0</td>\n",
       "      <td>-1.0</td>\n",
       "    </tr>\n",
       "    <tr>\n",
       "      <td>4</td>\n",
       "      <td>10.0</td>\n",
       "      <td>19.0</td>\n",
       "      <td>1.0</td>\n",
       "      <td>749.0</td>\n",
       "      <td>730.0</td>\n",
       "      <td>922.0</td>\n",
       "      <td>849.0</td>\n",
       "      <td>1451.0</td>\n",
       "      <td>93.0</td>\n",
       "      <td>79.0</td>\n",
       "      <td>33.0</td>\n",
       "      <td>447.0</td>\n",
       "      <td>19.0</td>\n",
       "    </tr>\n",
       "  </tbody>\n",
       "</table>\n",
       "</div>"
      ],
      "text/plain": [
       "      w  DayofMonth  DayOfWeek  DepTime  CRSDepTime  ArrTime  CRSArrTime  \\\n",
       "0  10.0        14.0        3.0    741.0       730.0    912.0       849.0   \n",
       "1  10.0        15.0        4.0    729.0       730.0    903.0       849.0   \n",
       "2  10.0        17.0        6.0    741.0       730.0    918.0       849.0   \n",
       "3  10.0        18.0        7.0    729.0       730.0    847.0       849.0   \n",
       "4  10.0        19.0        1.0    749.0       730.0    922.0       849.0   \n",
       "\n",
       "   FlightNum  ActualElapsedTime  CRSElapsedTime  ArrDelay  Distance  DepDelay  \n",
       "0     1451.0               91.0            79.0      23.0     447.0      11.0  \n",
       "1     1451.0               94.0            79.0      14.0     447.0      -1.0  \n",
       "2     1451.0               97.0            79.0      29.0     447.0      11.0  \n",
       "3     1451.0               78.0            79.0      -2.0     447.0      -1.0  \n",
       "4     1451.0               93.0            79.0      33.0     447.0      19.0  "
      ]
     },
     "execution_count": 4,
     "metadata": {},
     "output_type": "execute_result"
    }
   ],
   "source": [
    "df.head()"
   ]
  },
  {
   "cell_type": "code",
   "execution_count": 5,
   "metadata": {},
   "outputs": [
    {
     "data": {
      "text/html": [
       "<div>\n",
       "<style scoped>\n",
       "    .dataframe tbody tr th:only-of-type {\n",
       "        vertical-align: middle;\n",
       "    }\n",
       "\n",
       "    .dataframe tbody tr th {\n",
       "        vertical-align: top;\n",
       "    }\n",
       "\n",
       "    .dataframe thead th {\n",
       "        text-align: right;\n",
       "    }\n",
       "</style>\n",
       "<table border=\"1\" class=\"dataframe\">\n",
       "  <thead>\n",
       "    <tr style=\"text-align: right;\">\n",
       "      <th></th>\n",
       "      <th>w</th>\n",
       "      <th>DayofMonth</th>\n",
       "      <th>DayOfWeek</th>\n",
       "      <th>DepTime</th>\n",
       "      <th>CRSDepTime</th>\n",
       "      <th>ArrTime</th>\n",
       "      <th>CRSArrTime</th>\n",
       "      <th>FlightNum</th>\n",
       "      <th>ActualElapsedTime</th>\n",
       "      <th>CRSElapsedTime</th>\n",
       "      <th>ArrDelay</th>\n",
       "      <th>Distance</th>\n",
       "      <th>DepDelay</th>\n",
       "    </tr>\n",
       "  </thead>\n",
       "  <tbody>\n",
       "    <tr>\n",
       "      <td>count</td>\n",
       "      <td>1.047901e+06</td>\n",
       "      <td>1.047901e+06</td>\n",
       "      <td>1.047901e+06</td>\n",
       "      <td>1.033396e+06</td>\n",
       "      <td>1.047901e+06</td>\n",
       "      <td>1.030616e+06</td>\n",
       "      <td>1.047901e+06</td>\n",
       "      <td>1.047901e+06</td>\n",
       "      <td>1.030616e+06</td>\n",
       "      <td>1.047901e+06</td>\n",
       "      <td>1.030616e+06</td>\n",
       "      <td>1.047901e+06</td>\n",
       "      <td>1.033396e+06</td>\n",
       "    </tr>\n",
       "    <tr>\n",
       "      <td>mean</td>\n",
       "      <td>1.074126e+01</td>\n",
       "      <td>1.566071e+01</td>\n",
       "      <td>3.969954e+00</td>\n",
       "      <td>1.367889e+03</td>\n",
       "      <td>1.360862e+03</td>\n",
       "      <td>1.492472e+03</td>\n",
       "      <td>1.490278e+03</td>\n",
       "      <td>6.763935e+02</td>\n",
       "      <td>1.018124e+02</td>\n",
       "      <td>1.003505e+02</td>\n",
       "      <td>8.348465e+00</td>\n",
       "      <td>5.908147e+02</td>\n",
       "      <td>7.087709e+00</td>\n",
       "    </tr>\n",
       "    <tr>\n",
       "      <td>std</td>\n",
       "      <td>7.279427e-01</td>\n",
       "      <td>8.806336e+00</td>\n",
       "      <td>1.997856e+00</td>\n",
       "      <td>4.780236e+02</td>\n",
       "      <td>4.720585e+02</td>\n",
       "      <td>4.972475e+02</td>\n",
       "      <td>4.867260e+02</td>\n",
       "      <td>5.094130e+02</td>\n",
       "      <td>6.183117e+01</td>\n",
       "      <td>6.134016e+01</td>\n",
       "      <td>2.365067e+01</td>\n",
       "      <td>5.001233e+02</td>\n",
       "      <td>2.191540e+01</td>\n",
       "    </tr>\n",
       "    <tr>\n",
       "      <td>min</td>\n",
       "      <td>1.000000e+01</td>\n",
       "      <td>1.000000e+00</td>\n",
       "      <td>1.000000e+00</td>\n",
       "      <td>1.000000e+00</td>\n",
       "      <td>1.000000e+00</td>\n",
       "      <td>1.000000e+00</td>\n",
       "      <td>1.000000e+00</td>\n",
       "      <td>1.000000e+00</td>\n",
       "      <td>-3.100000e+02</td>\n",
       "      <td>-1.000000e+01</td>\n",
       "      <td>-1.302000e+03</td>\n",
       "      <td>0.000000e+00</td>\n",
       "      <td>-1.345000e+03</td>\n",
       "    </tr>\n",
       "    <tr>\n",
       "      <td>25%</td>\n",
       "      <td>1.000000e+01</td>\n",
       "      <td>8.000000e+00</td>\n",
       "      <td>2.000000e+00</td>\n",
       "      <td>9.460000e+02</td>\n",
       "      <td>9.430000e+02</td>\n",
       "      <td>1.117000e+03</td>\n",
       "      <td>1.115000e+03</td>\n",
       "      <td>2.970000e+02</td>\n",
       "      <td>6.000000e+01</td>\n",
       "      <td>6.000000e+01</td>\n",
       "      <td>-3.000000e+00</td>\n",
       "      <td>2.480000e+02</td>\n",
       "      <td>0.000000e+00</td>\n",
       "    </tr>\n",
       "    <tr>\n",
       "      <td>50%</td>\n",
       "      <td>1.100000e+01</td>\n",
       "      <td>1.600000e+01</td>\n",
       "      <td>4.000000e+00</td>\n",
       "      <td>1.345000e+03</td>\n",
       "      <td>1.339000e+03</td>\n",
       "      <td>1.520000e+03</td>\n",
       "      <td>1.519000e+03</td>\n",
       "      <td>5.730000e+02</td>\n",
       "      <td>8.300000e+01</td>\n",
       "      <td>8.000000e+01</td>\n",
       "      <td>4.000000e+00</td>\n",
       "      <td>4.140000e+02</td>\n",
       "      <td>0.000000e+00</td>\n",
       "    </tr>\n",
       "    <tr>\n",
       "      <td>75%</td>\n",
       "      <td>1.100000e+01</td>\n",
       "      <td>2.300000e+01</td>\n",
       "      <td>6.000000e+00</td>\n",
       "      <td>1.750000e+03</td>\n",
       "      <td>1.741000e+03</td>\n",
       "      <td>1.917000e+03</td>\n",
       "      <td>1.911000e+03</td>\n",
       "      <td>9.050000e+02</td>\n",
       "      <td>1.280000e+02</td>\n",
       "      <td>1.270000e+02</td>\n",
       "      <td>1.300000e+01</td>\n",
       "      <td>7.830000e+02</td>\n",
       "      <td>7.000000e+00</td>\n",
       "    </tr>\n",
       "    <tr>\n",
       "      <td>max</td>\n",
       "      <td>1.200000e+01</td>\n",
       "      <td>3.100000e+01</td>\n",
       "      <td>7.000000e+00</td>\n",
       "      <td>2.400000e+03</td>\n",
       "      <td>2.359000e+03</td>\n",
       "      <td>2.400000e+03</td>\n",
       "      <td>2.400000e+03</td>\n",
       "      <td>4.938000e+03</td>\n",
       "      <td>1.654000e+03</td>\n",
       "      <td>1.555000e+03</td>\n",
       "      <td>1.033000e+03</td>\n",
       "      <td>4.983000e+03</td>\n",
       "      <td>1.439000e+03</td>\n",
       "    </tr>\n",
       "  </tbody>\n",
       "</table>\n",
       "</div>"
      ],
      "text/plain": [
       "                  w    DayofMonth     DayOfWeek       DepTime    CRSDepTime  \\\n",
       "count  1.047901e+06  1.047901e+06  1.047901e+06  1.033396e+06  1.047901e+06   \n",
       "mean   1.074126e+01  1.566071e+01  3.969954e+00  1.367889e+03  1.360862e+03   \n",
       "std    7.279427e-01  8.806336e+00  1.997856e+00  4.780236e+02  4.720585e+02   \n",
       "min    1.000000e+01  1.000000e+00  1.000000e+00  1.000000e+00  1.000000e+00   \n",
       "25%    1.000000e+01  8.000000e+00  2.000000e+00  9.460000e+02  9.430000e+02   \n",
       "50%    1.100000e+01  1.600000e+01  4.000000e+00  1.345000e+03  1.339000e+03   \n",
       "75%    1.100000e+01  2.300000e+01  6.000000e+00  1.750000e+03  1.741000e+03   \n",
       "max    1.200000e+01  3.100000e+01  7.000000e+00  2.400000e+03  2.359000e+03   \n",
       "\n",
       "            ArrTime    CRSArrTime     FlightNum  ActualElapsedTime  \\\n",
       "count  1.030616e+06  1.047901e+06  1.047901e+06       1.030616e+06   \n",
       "mean   1.492472e+03  1.490278e+03  6.763935e+02       1.018124e+02   \n",
       "std    4.972475e+02  4.867260e+02  5.094130e+02       6.183117e+01   \n",
       "min    1.000000e+00  1.000000e+00  1.000000e+00      -3.100000e+02   \n",
       "25%    1.117000e+03  1.115000e+03  2.970000e+02       6.000000e+01   \n",
       "50%    1.520000e+03  1.519000e+03  5.730000e+02       8.300000e+01   \n",
       "75%    1.917000e+03  1.911000e+03  9.050000e+02       1.280000e+02   \n",
       "max    2.400000e+03  2.400000e+03  4.938000e+03       1.654000e+03   \n",
       "\n",
       "       CRSElapsedTime      ArrDelay      Distance      DepDelay  \n",
       "count    1.047901e+06  1.030616e+06  1.047901e+06  1.033396e+06  \n",
       "mean     1.003505e+02  8.348465e+00  5.908147e+02  7.087709e+00  \n",
       "std      6.134016e+01  2.365067e+01  5.001233e+02  2.191540e+01  \n",
       "min     -1.000000e+01 -1.302000e+03  0.000000e+00 -1.345000e+03  \n",
       "25%      6.000000e+01 -3.000000e+00  2.480000e+02  0.000000e+00  \n",
       "50%      8.000000e+01  4.000000e+00  4.140000e+02  0.000000e+00  \n",
       "75%      1.270000e+02  1.300000e+01  7.830000e+02  7.000000e+00  \n",
       "max      1.555000e+03  1.033000e+03  4.983000e+03  1.439000e+03  "
      ]
     },
     "execution_count": 5,
     "metadata": {},
     "output_type": "execute_result"
    }
   ],
   "source": [
    "df_desc = df.describe(include='all')\n",
    "df_desc"
   ]
  },
  {
   "cell_type": "markdown",
   "metadata": {},
   "source": [
    "DATA CLEANING PROCESS"
   ]
  },
  {
   "cell_type": "code",
   "execution_count": 6,
   "metadata": {},
   "outputs": [
    {
     "data": {
      "text/plain": [
       "(1048575, 13)"
      ]
     },
     "execution_count": 6,
     "metadata": {},
     "output_type": "execute_result"
    }
   ],
   "source": [
    "#checking the shape of the data\n",
    "df.shape"
   ]
  },
  {
   "cell_type": "code",
   "execution_count": 7,
   "metadata": {},
   "outputs": [
    {
     "data": {
      "text/plain": [
       "w                    float64\n",
       "DayofMonth           float64\n",
       "DayOfWeek            float64\n",
       "DepTime              float64\n",
       "CRSDepTime           float64\n",
       "ArrTime              float64\n",
       "CRSArrTime           float64\n",
       "FlightNum            float64\n",
       "ActualElapsedTime    float64\n",
       "CRSElapsedTime       float64\n",
       "ArrDelay             float64\n",
       "Distance             float64\n",
       "DepDelay             float64\n",
       "dtype: object"
      ]
     },
     "execution_count": 7,
     "metadata": {},
     "output_type": "execute_result"
    }
   ],
   "source": [
    "df.dtypes"
   ]
  },
  {
   "cell_type": "code",
   "execution_count": 8,
   "metadata": {},
   "outputs": [
    {
     "name": "stdout",
     "output_type": "stream",
     "text": [
      "<class 'pandas.core.frame.DataFrame'>\n",
      "RangeIndex: 1048575 entries, 0 to 1048574\n",
      "Data columns (total 13 columns):\n",
      "w                    1047901 non-null float64\n",
      "DayofMonth           1047901 non-null float64\n",
      "DayOfWeek            1047901 non-null float64\n",
      "DepTime              1033396 non-null float64\n",
      "CRSDepTime           1047901 non-null float64\n",
      "ArrTime              1030616 non-null float64\n",
      "CRSArrTime           1047901 non-null float64\n",
      "FlightNum            1047901 non-null float64\n",
      "ActualElapsedTime    1030616 non-null float64\n",
      "CRSElapsedTime       1047901 non-null float64\n",
      "ArrDelay             1030616 non-null float64\n",
      "Distance             1047901 non-null float64\n",
      "DepDelay             1033396 non-null float64\n",
      "dtypes: float64(13)\n",
      "memory usage: 104.0 MB\n"
     ]
    }
   ],
   "source": [
    "df.info()"
   ]
  },
  {
   "cell_type": "code",
   "execution_count": 9,
   "metadata": {},
   "outputs": [
    {
     "data": {
      "text/plain": [
       "float64    13\n",
       "dtype: int64"
      ]
     },
     "execution_count": 9,
     "metadata": {},
     "output_type": "execute_result"
    }
   ],
   "source": [
    "#checking the variable type count in df\n",
    "df.dtypes.value_counts()"
   ]
  },
  {
   "cell_type": "markdown",
   "metadata": {},
   "source": [
    "PREPROCESSING"
   ]
  },
  {
   "cell_type": "code",
   "execution_count": 10,
   "metadata": {},
   "outputs": [
    {
     "name": "stdout",
     "output_type": "stream",
     "text": [
      "DayofMonth  (32,)\n",
      "DayOfWeek  (8,)\n",
      "DepTime  (1422,)\n",
      "CRSDepTime  (1144,)\n",
      "ArrTime  (1441,)\n",
      "CRSArrTime  (1276,)\n",
      "FlightNum  (2142,)\n",
      "ActualElapsedTime  (633,)\n",
      "CRSElapsedTime  (410,)\n",
      "ArrDelay  (596,)\n",
      "Distance  (1014,)\n",
      "DepDelay  (535,)\n"
     ]
    }
   ],
   "source": [
    "df.drop(\"w\",axis=1,inplace=True)\n",
    "for val in df:\n",
    "    print(val,\"\",df[val].unique().shape)"
   ]
  },
  {
   "cell_type": "markdown",
   "metadata": {},
   "source": [
    "NULL VALUE ANALYSIS & TREATMENT"
   ]
  },
  {
   "cell_type": "code",
   "execution_count": 11,
   "metadata": {},
   "outputs": [
    {
     "data": {
      "text/plain": [
       "DayofMonth           True\n",
       "DayOfWeek            True\n",
       "DepTime              True\n",
       "CRSDepTime           True\n",
       "ArrTime              True\n",
       "CRSArrTime           True\n",
       "FlightNum            True\n",
       "ActualElapsedTime    True\n",
       "CRSElapsedTime       True\n",
       "ArrDelay             True\n",
       "Distance             True\n",
       "DepDelay             True\n",
       "dtype: bool"
      ]
     },
     "execution_count": 11,
     "metadata": {},
     "output_type": "execute_result"
    }
   ],
   "source": [
    "# Dealing with NaN.\n",
    "df.isnull().any()"
   ]
  },
  {
   "cell_type": "code",
   "execution_count": 12,
   "metadata": {},
   "outputs": [
    {
     "data": {
      "text/html": [
       "<div>\n",
       "<style scoped>\n",
       "    .dataframe tbody tr th:only-of-type {\n",
       "        vertical-align: middle;\n",
       "    }\n",
       "\n",
       "    .dataframe tbody tr th {\n",
       "        vertical-align: top;\n",
       "    }\n",
       "\n",
       "    .dataframe thead th {\n",
       "        text-align: right;\n",
       "    }\n",
       "</style>\n",
       "<table border=\"1\" class=\"dataframe\">\n",
       "  <thead>\n",
       "    <tr style=\"text-align: right;\">\n",
       "      <th></th>\n",
       "      <th>DayofMonth</th>\n",
       "      <th>DayOfWeek</th>\n",
       "      <th>DepTime</th>\n",
       "      <th>CRSDepTime</th>\n",
       "      <th>ArrTime</th>\n",
       "      <th>CRSArrTime</th>\n",
       "      <th>FlightNum</th>\n",
       "      <th>ActualElapsedTime</th>\n",
       "      <th>CRSElapsedTime</th>\n",
       "      <th>ArrDelay</th>\n",
       "      <th>Distance</th>\n",
       "      <th>DepDelay</th>\n",
       "    </tr>\n",
       "  </thead>\n",
       "  <tbody>\n",
       "    <tr>\n",
       "      <td>0</td>\n",
       "      <td>False</td>\n",
       "      <td>False</td>\n",
       "      <td>False</td>\n",
       "      <td>False</td>\n",
       "      <td>False</td>\n",
       "      <td>False</td>\n",
       "      <td>False</td>\n",
       "      <td>False</td>\n",
       "      <td>False</td>\n",
       "      <td>False</td>\n",
       "      <td>False</td>\n",
       "      <td>False</td>\n",
       "    </tr>\n",
       "    <tr>\n",
       "      <td>1</td>\n",
       "      <td>False</td>\n",
       "      <td>False</td>\n",
       "      <td>False</td>\n",
       "      <td>False</td>\n",
       "      <td>False</td>\n",
       "      <td>False</td>\n",
       "      <td>False</td>\n",
       "      <td>False</td>\n",
       "      <td>False</td>\n",
       "      <td>False</td>\n",
       "      <td>False</td>\n",
       "      <td>False</td>\n",
       "    </tr>\n",
       "    <tr>\n",
       "      <td>2</td>\n",
       "      <td>False</td>\n",
       "      <td>False</td>\n",
       "      <td>False</td>\n",
       "      <td>False</td>\n",
       "      <td>False</td>\n",
       "      <td>False</td>\n",
       "      <td>False</td>\n",
       "      <td>False</td>\n",
       "      <td>False</td>\n",
       "      <td>False</td>\n",
       "      <td>False</td>\n",
       "      <td>False</td>\n",
       "    </tr>\n",
       "    <tr>\n",
       "      <td>3</td>\n",
       "      <td>False</td>\n",
       "      <td>False</td>\n",
       "      <td>False</td>\n",
       "      <td>False</td>\n",
       "      <td>False</td>\n",
       "      <td>False</td>\n",
       "      <td>False</td>\n",
       "      <td>False</td>\n",
       "      <td>False</td>\n",
       "      <td>False</td>\n",
       "      <td>False</td>\n",
       "      <td>False</td>\n",
       "    </tr>\n",
       "    <tr>\n",
       "      <td>4</td>\n",
       "      <td>False</td>\n",
       "      <td>False</td>\n",
       "      <td>False</td>\n",
       "      <td>False</td>\n",
       "      <td>False</td>\n",
       "      <td>False</td>\n",
       "      <td>False</td>\n",
       "      <td>False</td>\n",
       "      <td>False</td>\n",
       "      <td>False</td>\n",
       "      <td>False</td>\n",
       "      <td>False</td>\n",
       "    </tr>\n",
       "    <tr>\n",
       "      <td>...</td>\n",
       "      <td>...</td>\n",
       "      <td>...</td>\n",
       "      <td>...</td>\n",
       "      <td>...</td>\n",
       "      <td>...</td>\n",
       "      <td>...</td>\n",
       "      <td>...</td>\n",
       "      <td>...</td>\n",
       "      <td>...</td>\n",
       "      <td>...</td>\n",
       "      <td>...</td>\n",
       "      <td>...</td>\n",
       "    </tr>\n",
       "    <tr>\n",
       "      <td>1048570</td>\n",
       "      <td>False</td>\n",
       "      <td>False</td>\n",
       "      <td>False</td>\n",
       "      <td>False</td>\n",
       "      <td>False</td>\n",
       "      <td>False</td>\n",
       "      <td>False</td>\n",
       "      <td>False</td>\n",
       "      <td>False</td>\n",
       "      <td>False</td>\n",
       "      <td>False</td>\n",
       "      <td>False</td>\n",
       "    </tr>\n",
       "    <tr>\n",
       "      <td>1048571</td>\n",
       "      <td>False</td>\n",
       "      <td>False</td>\n",
       "      <td>False</td>\n",
       "      <td>False</td>\n",
       "      <td>False</td>\n",
       "      <td>False</td>\n",
       "      <td>False</td>\n",
       "      <td>False</td>\n",
       "      <td>False</td>\n",
       "      <td>False</td>\n",
       "      <td>False</td>\n",
       "      <td>False</td>\n",
       "    </tr>\n",
       "    <tr>\n",
       "      <td>1048572</td>\n",
       "      <td>False</td>\n",
       "      <td>False</td>\n",
       "      <td>False</td>\n",
       "      <td>False</td>\n",
       "      <td>False</td>\n",
       "      <td>False</td>\n",
       "      <td>False</td>\n",
       "      <td>False</td>\n",
       "      <td>False</td>\n",
       "      <td>False</td>\n",
       "      <td>False</td>\n",
       "      <td>False</td>\n",
       "    </tr>\n",
       "    <tr>\n",
       "      <td>1048573</td>\n",
       "      <td>False</td>\n",
       "      <td>False</td>\n",
       "      <td>False</td>\n",
       "      <td>False</td>\n",
       "      <td>False</td>\n",
       "      <td>False</td>\n",
       "      <td>False</td>\n",
       "      <td>False</td>\n",
       "      <td>False</td>\n",
       "      <td>False</td>\n",
       "      <td>False</td>\n",
       "      <td>False</td>\n",
       "    </tr>\n",
       "    <tr>\n",
       "      <td>1048574</td>\n",
       "      <td>False</td>\n",
       "      <td>False</td>\n",
       "      <td>False</td>\n",
       "      <td>False</td>\n",
       "      <td>False</td>\n",
       "      <td>False</td>\n",
       "      <td>False</td>\n",
       "      <td>False</td>\n",
       "      <td>False</td>\n",
       "      <td>False</td>\n",
       "      <td>False</td>\n",
       "      <td>False</td>\n",
       "    </tr>\n",
       "  </tbody>\n",
       "</table>\n",
       "<p>1048575 rows × 12 columns</p>\n",
       "</div>"
      ],
      "text/plain": [
       "         DayofMonth  DayOfWeek  DepTime  CRSDepTime  ArrTime  CRSArrTime  \\\n",
       "0             False      False    False       False    False       False   \n",
       "1             False      False    False       False    False       False   \n",
       "2             False      False    False       False    False       False   \n",
       "3             False      False    False       False    False       False   \n",
       "4             False      False    False       False    False       False   \n",
       "...             ...        ...      ...         ...      ...         ...   \n",
       "1048570       False      False    False       False    False       False   \n",
       "1048571       False      False    False       False    False       False   \n",
       "1048572       False      False    False       False    False       False   \n",
       "1048573       False      False    False       False    False       False   \n",
       "1048574       False      False    False       False    False       False   \n",
       "\n",
       "         FlightNum  ActualElapsedTime  CRSElapsedTime  ArrDelay  Distance  \\\n",
       "0            False              False           False     False     False   \n",
       "1            False              False           False     False     False   \n",
       "2            False              False           False     False     False   \n",
       "3            False              False           False     False     False   \n",
       "4            False              False           False     False     False   \n",
       "...            ...                ...             ...       ...       ...   \n",
       "1048570      False              False           False     False     False   \n",
       "1048571      False              False           False     False     False   \n",
       "1048572      False              False           False     False     False   \n",
       "1048573      False              False           False     False     False   \n",
       "1048574      False              False           False     False     False   \n",
       "\n",
       "         DepDelay  \n",
       "0           False  \n",
       "1           False  \n",
       "2           False  \n",
       "3           False  \n",
       "4           False  \n",
       "...           ...  \n",
       "1048570     False  \n",
       "1048571     False  \n",
       "1048572     False  \n",
       "1048573     False  \n",
       "1048574     False  \n",
       "\n",
       "[1048575 rows x 12 columns]"
      ]
     },
     "execution_count": 12,
     "metadata": {},
     "output_type": "execute_result"
    }
   ],
   "source": [
    "df.isnull()"
   ]
  },
  {
   "cell_type": "code",
   "execution_count": 13,
   "metadata": {},
   "outputs": [
    {
     "data": {
      "text/plain": [
       "DayofMonth             674\n",
       "DayOfWeek              674\n",
       "DepTime              15179\n",
       "CRSDepTime             674\n",
       "ArrTime              17959\n",
       "CRSArrTime             674\n",
       "FlightNum              674\n",
       "ActualElapsedTime    17959\n",
       "CRSElapsedTime         674\n",
       "ArrDelay             17959\n",
       "Distance               674\n",
       "DepDelay             15179\n",
       "dtype: int64"
      ]
     },
     "execution_count": 13,
     "metadata": {},
     "output_type": "execute_result"
    }
   ],
   "source": [
    "df.isnull().sum()"
   ]
  },
  {
   "cell_type": "code",
   "execution_count": 14,
   "metadata": {},
   "outputs": [
    {
     "name": "stdout",
     "output_type": "stream",
     "text": [
      "DayofMonth   0.0642777102257826\n",
      "DayOfWeek   0.0642777102257826\n",
      "DepTime   1.4475836253963714\n",
      "CRSDepTime   0.0642777102257826\n",
      "ArrTime   1.7127053381970772\n",
      "CRSArrTime   0.0642777102257826\n",
      "FlightNum   0.0642777102257826\n",
      "ActualElapsedTime   1.7127053381970772\n",
      "CRSElapsedTime   0.0642777102257826\n",
      "ArrDelay   1.7127053381970772\n",
      "Distance   0.0642777102257826\n",
      "DepDelay   1.4475836253963714\n"
     ]
    }
   ],
   "source": [
    "for val in df:\n",
    " print(val, \" \", (df[val].isnull().sum() / df.shape[0]) * 100)"
   ]
  },
  {
   "cell_type": "markdown",
   "metadata": {},
   "source": [
    "NO OF ROWS GETTING AFFECTED BY REMOVING NA'S"
   ]
  },
  {
   "cell_type": "code",
   "execution_count": 15,
   "metadata": {},
   "outputs": [
    {
     "data": {
      "text/plain": [
       "17959"
      ]
     },
     "execution_count": 15,
     "metadata": {},
     "output_type": "execute_result"
    }
   ],
   "source": [
    "no_of_rows = df[df.isna().sum(axis=1) >= 1].shape[0]\n",
    "no_of_rows"
   ]
  },
  {
   "cell_type": "markdown",
   "metadata": {},
   "source": [
    "% OF ROWS GETTING AFFECTED BY REMOVING NA'S"
   ]
  },
  {
   "cell_type": "code",
   "execution_count": 16,
   "metadata": {},
   "outputs": [
    {
     "name": "stdout",
     "output_type": "stream",
     "text": [
      "1.7127053381970772\n"
     ]
    }
   ],
   "source": [
    "print((no_of_rows / df.shape[0]) * 100)"
   ]
  },
  {
   "cell_type": "markdown",
   "metadata": {},
   "source": [
    "% OF ROWS GETTING AFFECTED BY NA'S < 2%,WE CAN DROP THOSE ROWS"
   ]
  },
  {
   "cell_type": "code",
   "execution_count": 17,
   "metadata": {},
   "outputs": [],
   "source": [
    "df= df.dropna()"
   ]
  },
  {
   "cell_type": "code",
   "execution_count": 18,
   "metadata": {},
   "outputs": [
    {
     "data": {
      "text/plain": [
       "DayofMonth           False\n",
       "DayOfWeek            False\n",
       "DepTime              False\n",
       "CRSDepTime           False\n",
       "ArrTime              False\n",
       "CRSArrTime           False\n",
       "FlightNum            False\n",
       "ActualElapsedTime    False\n",
       "CRSElapsedTime       False\n",
       "ArrDelay             False\n",
       "Distance             False\n",
       "DepDelay             False\n",
       "dtype: bool"
      ]
     },
     "execution_count": 18,
     "metadata": {},
     "output_type": "execute_result"
    }
   ],
   "source": [
    "# now check the na's after dropping\n",
    "df.isnull().any()"
   ]
  },
  {
   "cell_type": "code",
   "execution_count": 19,
   "metadata": {},
   "outputs": [
    {
     "data": {
      "text/plain": [
       "(1030616, 12)"
      ]
     },
     "execution_count": 19,
     "metadata": {},
     "output_type": "execute_result"
    }
   ],
   "source": [
    "df.shape"
   ]
  },
  {
   "cell_type": "markdown",
   "metadata": {},
   "source": [
    "CONVERTING NUMERICAL TO FACTOR"
   ]
  },
  {
   "cell_type": "code",
   "execution_count": 20,
   "metadata": {},
   "outputs": [
    {
     "name": "stderr",
     "output_type": "stream",
     "text": [
      "C:\\Users\\Nehal Debnath\\Anaconda3\\lib\\site-packages\\ipykernel_launcher.py:1: SettingWithCopyWarning: \n",
      "A value is trying to be set on a copy of a slice from a DataFrame.\n",
      "Try using .loc[row_indexer,col_indexer] = value instead\n",
      "\n",
      "See the caveats in the documentation: http://pandas.pydata.org/pandas-docs/stable/user_guide/indexing.html#returning-a-view-versus-a-copy\n",
      "  \"\"\"Entry point for launching an IPython kernel.\n",
      "C:\\Users\\Nehal Debnath\\Anaconda3\\lib\\site-packages\\ipykernel_launcher.py:2: SettingWithCopyWarning: \n",
      "A value is trying to be set on a copy of a slice from a DataFrame.\n",
      "Try using .loc[row_indexer,col_indexer] = value instead\n",
      "\n",
      "See the caveats in the documentation: http://pandas.pydata.org/pandas-docs/stable/user_guide/indexing.html#returning-a-view-versus-a-copy\n",
      "  \n"
     ]
    }
   ],
   "source": [
    "df[\"DayofMonth\"] = df[\"DayofMonth\"].astype(\"object\")\n",
    "df[\"DayOfWeek\"] = df[\"DayOfWeek\"].astype(\"object\")"
   ]
  },
  {
   "cell_type": "code",
   "execution_count": 21,
   "metadata": {
    "scrolled": false
   },
   "outputs": [
    {
     "name": "stdout",
     "output_type": "stream",
     "text": [
      "[]\n"
     ]
    }
   ],
   "source": [
    "# Checking the single value value domination/biased\n",
    "quasi_constant_feat = []\n",
    "for feature in df.columns:\n",
    " dominant = (df[feature].value_counts() / np.float(len(df))).sort_values(ascending=False).values[0]\n",
    " if dominant > 0.95:\n",
    "      quasi_constant_feat.append(feature)\n",
    "print(quasi_constant_feat)"
   ]
  },
  {
   "cell_type": "markdown",
   "metadata": {},
   "source": [
    "TARGET VARIABLE ANALYSIS"
   ]
  },
  {
   "cell_type": "code",
   "execution_count": 22,
   "metadata": {},
   "outputs": [
    {
     "name": "stderr",
     "output_type": "stream",
     "text": [
      "C:\\Users\\Nehal Debnath\\Anaconda3\\lib\\site-packages\\pandas\\core\\frame.py:4223: SettingWithCopyWarning: \n",
      "A value is trying to be set on a copy of a slice from a DataFrame\n",
      "\n",
      "See the caveats in the documentation: http://pandas.pydata.org/pandas-docs/stable/user_guide/indexing.html#returning-a-view-versus-a-copy\n",
      "  return super().rename(**kwargs)\n"
     ]
    }
   ],
   "source": [
    "df.rename(columns={'DepDelay':'tar_var'}, inplace=True)"
   ]
  },
  {
   "cell_type": "code",
   "execution_count": 23,
   "metadata": {},
   "outputs": [
    {
     "name": "stderr",
     "output_type": "stream",
     "text": [
      "C:\\Users\\Nehal Debnath\\Anaconda3\\lib\\site-packages\\ipykernel_launcher.py:6: SettingWithCopyWarning: \n",
      "A value is trying to be set on a copy of a slice from a DataFrame.\n",
      "Try using .loc[row_indexer,col_indexer] = value instead\n",
      "\n",
      "See the caveats in the documentation: http://pandas.pydata.org/pandas-docs/stable/user_guide/indexing.html#returning-a-view-versus-a-copy\n",
      "  \n",
      "C:\\Users\\Nehal Debnath\\Anaconda3\\lib\\site-packages\\pandas\\core\\generic.py:6786: SettingWithCopyWarning: \n",
      "A value is trying to be set on a copy of a slice from a DataFrame\n",
      "\n",
      "See the caveats in the documentation: http://pandas.pydata.org/pandas-docs/stable/user_guide/indexing.html#returning-a-view-versus-a-copy\n",
      "  self._update_inplace(new_data)\n"
     ]
    }
   ],
   "source": [
    "# Converting the tar_var into 0,1 class column.\n",
    "lst =[]\n",
    "for val in df.tar_var:\n",
    "    x = \"Yes\" if(val > 20) else \"NO\"\n",
    "    lst.append(x)\n",
    "df[\"tar_var\"] = lst\n",
    "df.tar_var.replace({\"NO\" : 0,\"Yes\" : 1} ,inplace=True)"
   ]
  },
  {
   "cell_type": "markdown",
   "metadata": {},
   "source": [
    "MAKING A COPY OF CLEAN DATA"
   ]
  },
  {
   "cell_type": "code",
   "execution_count": 24,
   "metadata": {},
   "outputs": [],
   "source": [
    " data = df.copy()"
   ]
  },
  {
   "cell_type": "code",
   "execution_count": 25,
   "metadata": {},
   "outputs": [
    {
     "data": {
      "text/plain": [
       "<seaborn.axisgrid.FacetGrid at 0x12a8687ee08>"
      ]
     },
     "execution_count": 25,
     "metadata": {},
     "output_type": "execute_result"
    },
    {
     "data": {
      "image/png": "[encoded data removed]",
      "text/plain": [
       "<Figure size 360x360 with 1 Axes>"
      ]
     },
     "metadata": {
      "needs_background": "light"
     },
     "output_type": "display_data"
    }
   ],
   "source": [
    "# Bar plot for tg variable\n",
    "sns.catplot(x=\"tar_var\", kind=\"count\", data=df)"
   ]
  },
  {
   "cell_type": "markdown",
   "metadata": {},
   "source": [
    "SEGREGATE THE DATA"
   ]
  },
  {
   "cell_type": "code",
   "execution_count": 26,
   "metadata": {},
   "outputs": [],
   "source": [
    "df_num = df.select_dtypes(include=['int64','float64' ])\n",
    "df_fac = df.select_dtypes(include=['object'])"
   ]
  },
  {
   "cell_type": "code",
   "execution_count": 27,
   "metadata": {},
   "outputs": [
    {
     "data": {
      "text/plain": [
       "DayofMonth            object\n",
       "DayOfWeek             object\n",
       "DepTime              float64\n",
       "CRSDepTime           float64\n",
       "ArrTime              float64\n",
       "CRSArrTime           float64\n",
       "FlightNum            float64\n",
       "ActualElapsedTime    float64\n",
       "CRSElapsedTime       float64\n",
       "ArrDelay             float64\n",
       "Distance             float64\n",
       "tar_var                int64\n",
       "dtype: object"
      ]
     },
     "execution_count": 27,
     "metadata": {},
     "output_type": "execute_result"
    }
   ],
   "source": [
    "df.dtypes"
   ]
  },
  {
   "cell_type": "code",
   "execution_count": 28,
   "metadata": {},
   "outputs": [
    {
     "data": {
      "text/html": [
       "<div>\n",
       "<style scoped>\n",
       "    .dataframe tbody tr th:only-of-type {\n",
       "        vertical-align: middle;\n",
       "    }\n",
       "\n",
       "    .dataframe tbody tr th {\n",
       "        vertical-align: top;\n",
       "    }\n",
       "\n",
       "    .dataframe thead th {\n",
       "        text-align: right;\n",
       "    }\n",
       "</style>\n",
       "<table border=\"1\" class=\"dataframe\">\n",
       "  <thead>\n",
       "    <tr style=\"text-align: right;\">\n",
       "      <th></th>\n",
       "      <th>DepTime</th>\n",
       "      <th>CRSDepTime</th>\n",
       "      <th>ArrTime</th>\n",
       "      <th>CRSArrTime</th>\n",
       "      <th>FlightNum</th>\n",
       "      <th>ActualElapsedTime</th>\n",
       "      <th>CRSElapsedTime</th>\n",
       "      <th>ArrDelay</th>\n",
       "      <th>Distance</th>\n",
       "      <th>tar_var</th>\n",
       "    </tr>\n",
       "  </thead>\n",
       "  <tbody>\n",
       "    <tr>\n",
       "      <td>0</td>\n",
       "      <td>741.0</td>\n",
       "      <td>730.0</td>\n",
       "      <td>912.0</td>\n",
       "      <td>849.0</td>\n",
       "      <td>1451.0</td>\n",
       "      <td>91.0</td>\n",
       "      <td>79.0</td>\n",
       "      <td>23.0</td>\n",
       "      <td>447.0</td>\n",
       "      <td>0</td>\n",
       "    </tr>\n",
       "    <tr>\n",
       "      <td>1</td>\n",
       "      <td>729.0</td>\n",
       "      <td>730.0</td>\n",
       "      <td>903.0</td>\n",
       "      <td>849.0</td>\n",
       "      <td>1451.0</td>\n",
       "      <td>94.0</td>\n",
       "      <td>79.0</td>\n",
       "      <td>14.0</td>\n",
       "      <td>447.0</td>\n",
       "      <td>0</td>\n",
       "    </tr>\n",
       "    <tr>\n",
       "      <td>2</td>\n",
       "      <td>741.0</td>\n",
       "      <td>730.0</td>\n",
       "      <td>918.0</td>\n",
       "      <td>849.0</td>\n",
       "      <td>1451.0</td>\n",
       "      <td>97.0</td>\n",
       "      <td>79.0</td>\n",
       "      <td>29.0</td>\n",
       "      <td>447.0</td>\n",
       "      <td>0</td>\n",
       "    </tr>\n",
       "    <tr>\n",
       "      <td>3</td>\n",
       "      <td>729.0</td>\n",
       "      <td>730.0</td>\n",
       "      <td>847.0</td>\n",
       "      <td>849.0</td>\n",
       "      <td>1451.0</td>\n",
       "      <td>78.0</td>\n",
       "      <td>79.0</td>\n",
       "      <td>-2.0</td>\n",
       "      <td>447.0</td>\n",
       "      <td>0</td>\n",
       "    </tr>\n",
       "    <tr>\n",
       "      <td>4</td>\n",
       "      <td>749.0</td>\n",
       "      <td>730.0</td>\n",
       "      <td>922.0</td>\n",
       "      <td>849.0</td>\n",
       "      <td>1451.0</td>\n",
       "      <td>93.0</td>\n",
       "      <td>79.0</td>\n",
       "      <td>33.0</td>\n",
       "      <td>447.0</td>\n",
       "      <td>0</td>\n",
       "    </tr>\n",
       "    <tr>\n",
       "      <td>...</td>\n",
       "      <td>...</td>\n",
       "      <td>...</td>\n",
       "      <td>...</td>\n",
       "      <td>...</td>\n",
       "      <td>...</td>\n",
       "      <td>...</td>\n",
       "      <td>...</td>\n",
       "      <td>...</td>\n",
       "      <td>...</td>\n",
       "      <td>...</td>\n",
       "    </tr>\n",
       "    <tr>\n",
       "      <td>1048570</td>\n",
       "      <td>830.0</td>\n",
       "      <td>830.0</td>\n",
       "      <td>940.0</td>\n",
       "      <td>930.0</td>\n",
       "      <td>244.0</td>\n",
       "      <td>70.0</td>\n",
       "      <td>60.0</td>\n",
       "      <td>10.0</td>\n",
       "      <td>214.0</td>\n",
       "      <td>0</td>\n",
       "    </tr>\n",
       "    <tr>\n",
       "      <td>1048571</td>\n",
       "      <td>830.0</td>\n",
       "      <td>830.0</td>\n",
       "      <td>936.0</td>\n",
       "      <td>930.0</td>\n",
       "      <td>244.0</td>\n",
       "      <td>66.0</td>\n",
       "      <td>60.0</td>\n",
       "      <td>6.0</td>\n",
       "      <td>214.0</td>\n",
       "      <td>0</td>\n",
       "    </tr>\n",
       "    <tr>\n",
       "      <td>1048572</td>\n",
       "      <td>905.0</td>\n",
       "      <td>830.0</td>\n",
       "      <td>959.0</td>\n",
       "      <td>930.0</td>\n",
       "      <td>244.0</td>\n",
       "      <td>54.0</td>\n",
       "      <td>60.0</td>\n",
       "      <td>29.0</td>\n",
       "      <td>214.0</td>\n",
       "      <td>1</td>\n",
       "    </tr>\n",
       "    <tr>\n",
       "      <td>1048573</td>\n",
       "      <td>830.0</td>\n",
       "      <td>830.0</td>\n",
       "      <td>940.0</td>\n",
       "      <td>930.0</td>\n",
       "      <td>244.0</td>\n",
       "      <td>70.0</td>\n",
       "      <td>60.0</td>\n",
       "      <td>10.0</td>\n",
       "      <td>214.0</td>\n",
       "      <td>0</td>\n",
       "    </tr>\n",
       "    <tr>\n",
       "      <td>1048574</td>\n",
       "      <td>830.0</td>\n",
       "      <td>830.0</td>\n",
       "      <td>935.0</td>\n",
       "      <td>930.0</td>\n",
       "      <td>244.0</td>\n",
       "      <td>65.0</td>\n",
       "      <td>60.0</td>\n",
       "      <td>5.0</td>\n",
       "      <td>214.0</td>\n",
       "      <td>0</td>\n",
       "    </tr>\n",
       "  </tbody>\n",
       "</table>\n",
       "<p>1030616 rows × 10 columns</p>\n",
       "</div>"
      ],
      "text/plain": [
       "         DepTime  CRSDepTime  ArrTime  CRSArrTime  FlightNum  \\\n",
       "0          741.0       730.0    912.0       849.0     1451.0   \n",
       "1          729.0       730.0    903.0       849.0     1451.0   \n",
       "2          741.0       730.0    918.0       849.0     1451.0   \n",
       "3          729.0       730.0    847.0       849.0     1451.0   \n",
       "4          749.0       730.0    922.0       849.0     1451.0   \n",
       "...          ...         ...      ...         ...        ...   \n",
       "1048570    830.0       830.0    940.0       930.0      244.0   \n",
       "1048571    830.0       830.0    936.0       930.0      244.0   \n",
       "1048572    905.0       830.0    959.0       930.0      244.0   \n",
       "1048573    830.0       830.0    940.0       930.0      244.0   \n",
       "1048574    830.0       830.0    935.0       930.0      244.0   \n",
       "\n",
       "         ActualElapsedTime  CRSElapsedTime  ArrDelay  Distance  tar_var  \n",
       "0                     91.0            79.0      23.0     447.0        0  \n",
       "1                     94.0            79.0      14.0     447.0        0  \n",
       "2                     97.0            79.0      29.0     447.0        0  \n",
       "3                     78.0            79.0      -2.0     447.0        0  \n",
       "4                     93.0            79.0      33.0     447.0        0  \n",
       "...                    ...             ...       ...       ...      ...  \n",
       "1048570               70.0            60.0      10.0     214.0        0  \n",
       "1048571               66.0            60.0       6.0     214.0        0  \n",
       "1048572               54.0            60.0      29.0     214.0        1  \n",
       "1048573               70.0            60.0      10.0     214.0        0  \n",
       "1048574               65.0            60.0       5.0     214.0        0  \n",
       "\n",
       "[1030616 rows x 10 columns]"
      ]
     },
     "execution_count": 28,
     "metadata": {},
     "output_type": "execute_result"
    }
   ],
   "source": [
    "df_num"
   ]
  },
  {
   "cell_type": "code",
   "execution_count": 29,
   "metadata": {},
   "outputs": [
    {
     "data": {
      "text/html": [
       "<div>\n",
       "<style scoped>\n",
       "    .dataframe tbody tr th:only-of-type {\n",
       "        vertical-align: middle;\n",
       "    }\n",
       "\n",
       "    .dataframe tbody tr th {\n",
       "        vertical-align: top;\n",
       "    }\n",
       "\n",
       "    .dataframe thead th {\n",
       "        text-align: right;\n",
       "    }\n",
       "</style>\n",
       "<table border=\"1\" class=\"dataframe\">\n",
       "  <thead>\n",
       "    <tr style=\"text-align: right;\">\n",
       "      <th></th>\n",
       "      <th>DayofMonth</th>\n",
       "      <th>DayOfWeek</th>\n",
       "    </tr>\n",
       "  </thead>\n",
       "  <tbody>\n",
       "    <tr>\n",
       "      <td>0</td>\n",
       "      <td>14</td>\n",
       "      <td>3</td>\n",
       "    </tr>\n",
       "    <tr>\n",
       "      <td>1</td>\n",
       "      <td>15</td>\n",
       "      <td>4</td>\n",
       "    </tr>\n",
       "    <tr>\n",
       "      <td>2</td>\n",
       "      <td>17</td>\n",
       "      <td>6</td>\n",
       "    </tr>\n",
       "    <tr>\n",
       "      <td>3</td>\n",
       "      <td>18</td>\n",
       "      <td>7</td>\n",
       "    </tr>\n",
       "    <tr>\n",
       "      <td>4</td>\n",
       "      <td>19</td>\n",
       "      <td>1</td>\n",
       "    </tr>\n",
       "    <tr>\n",
       "      <td>...</td>\n",
       "      <td>...</td>\n",
       "      <td>...</td>\n",
       "    </tr>\n",
       "    <tr>\n",
       "      <td>1048570</td>\n",
       "      <td>14</td>\n",
       "      <td>1</td>\n",
       "    </tr>\n",
       "    <tr>\n",
       "      <td>1048571</td>\n",
       "      <td>15</td>\n",
       "      <td>2</td>\n",
       "    </tr>\n",
       "    <tr>\n",
       "      <td>1048572</td>\n",
       "      <td>16</td>\n",
       "      <td>3</td>\n",
       "    </tr>\n",
       "    <tr>\n",
       "      <td>1048573</td>\n",
       "      <td>17</td>\n",
       "      <td>4</td>\n",
       "    </tr>\n",
       "    <tr>\n",
       "      <td>1048574</td>\n",
       "      <td>18</td>\n",
       "      <td>5</td>\n",
       "    </tr>\n",
       "  </tbody>\n",
       "</table>\n",
       "<p>1030616 rows × 2 columns</p>\n",
       "</div>"
      ],
      "text/plain": [
       "        DayofMonth DayOfWeek\n",
       "0               14         3\n",
       "1               15         4\n",
       "2               17         6\n",
       "3               18         7\n",
       "4               19         1\n",
       "...            ...       ...\n",
       "1048570         14         1\n",
       "1048571         15         2\n",
       "1048572         16         3\n",
       "1048573         17         4\n",
       "1048574         18         5\n",
       "\n",
       "[1030616 rows x 2 columns]"
      ]
     },
     "execution_count": 29,
     "metadata": {},
     "output_type": "execute_result"
    }
   ],
   "source": [
    "df_fac"
   ]
  },
  {
   "cell_type": "markdown",
   "metadata": {},
   "source": [
    "BAR PLOT OF CATEGORICAL DATA"
   ]
  },
  {
   "cell_type": "code",
   "execution_count": 30,
   "metadata": {},
   "outputs": [
    {
     "data": {
      "text/plain": [
       "<seaborn.axisgrid.FacetGrid at 0x12ab82bbfc8>"
      ]
     },
     "execution_count": 30,
     "metadata": {},
     "output_type": "execute_result"
    },
    {
     "data": {
      "image/png": "[encoded data removed]",
      "text/plain": [
       "<Figure size 792x792 with 1 Axes>"
      ]
     },
     "metadata": {
      "needs_background": "light"
     },
     "output_type": "display_data"
    }
   ],
   "source": [
    "sns.catplot(x=\"DayofMonth\", kind=\"count\",height=11, data=df_fac)"
   ]
  },
  {
   "cell_type": "code",
   "execution_count": 31,
   "metadata": {},
   "outputs": [
    {
     "data": {
      "text/plain": [
       "<seaborn.axisgrid.FacetGrid at 0x12a86d40e88>"
      ]
     },
     "execution_count": 31,
     "metadata": {},
     "output_type": "execute_result"
    },
    {
     "data": {
      "image/png": "[encoded data removed]",
      "text/plain": [
       "<Figure size 360x360 with 1 Axes>"
      ]
     },
     "metadata": {
      "needs_background": "light"
     },
     "output_type": "display_data"
    }
   ],
   "source": [
    "sns.catplot(x=\"DayOfWeek\", kind=\"count\", data=df_fac)"
   ]
  },
  {
   "cell_type": "markdown",
   "metadata": {},
   "source": [
    "VARIABLE SIGNIFICANCE"
   ]
  },
  {
   "cell_type": "code",
   "execution_count": 32,
   "metadata": {},
   "outputs": [
    {
     "data": {
      "text/plain": [
       "<matplotlib.axes._subplots.AxesSubplot at 0x12a86aecc48>"
      ]
     },
     "execution_count": 32,
     "metadata": {},
     "output_type": "execute_result"
    },
    {
     "data": {
      "image/png": "[encoded data removed]",
      "text/plain": [
       "<Figure size 936x936 with 3 Axes>"
      ]
     },
     "metadata": {
      "needs_background": "light"
     },
     "output_type": "display_data"
    }
   ],
   "source": [
    "# Checking for co-relation\n",
    "# corrplot\n",
    "corrmat= df_num.corr()\n",
    "fig,ax=plt.subplots()\n",
    "fig.set_size_inches(13,13)\n",
    "sns.heatmap(corrmat)\n",
    "sns.heatmap(corrmat,annot=True)"
   ]
  },
  {
   "cell_type": "code",
   "execution_count": 33,
   "metadata": {},
   "outputs": [
    {
     "data": {
      "text/plain": [
       "{'CRSArrTime', 'CRSDepTime', 'CRSElapsedTime', 'Distance'}"
      ]
     },
     "execution_count": 33,
     "metadata": {},
     "output_type": "execute_result"
    }
   ],
   "source": [
    "# Which are the columns that should removed/highly correlated\n",
    "def checkcorrelation(dataset, threshold):\n",
    "                col_corr = set()\n",
    "                cor_matrix = dataset.corr()\n",
    "                for i in range(len(cor_matrix.columns)):\n",
    "                    for j in range(i):\n",
    "                        if abs(cor_matrix.iloc[i, j]) > threshold:\n",
    "                            colname = cor_matrix.columns[i]\n",
    "                            col_corr.add(colname)\n",
    "                return col_corr\n",
    "\n",
    "checkcorrelation(df_num, 0.8)"
   ]
  },
  {
   "cell_type": "code",
   "execution_count": 34,
   "metadata": {},
   "outputs": [
    {
     "name": "stderr",
     "output_type": "stream",
     "text": [
      "C:\\Users\\Nehal Debnath\\Anaconda3\\lib\\site-packages\\pandas\\core\\frame.py:4102: SettingWithCopyWarning: \n",
      "A value is trying to be set on a copy of a slice from a DataFrame\n",
      "\n",
      "See the caveats in the documentation: http://pandas.pydata.org/pandas-docs/stable/user_guide/indexing.html#returning-a-view-versus-a-copy\n",
      "  errors=errors,\n"
     ]
    }
   ],
   "source": [
    "# drop the highly co-related columns\n",
    "df_num.drop(\"CRSArrTime\", axis=1, inplace=True)\n",
    "df_num.drop(\"CRSDepTime\", axis=1, inplace=True)\n",
    "df_num.drop(\"CRSElapsedTime\", axis=1, inplace=True)\n",
    "df_num.drop(\"Distance\", axis=1, inplace=True)"
   ]
  },
  {
   "cell_type": "code",
   "execution_count": 35,
   "metadata": {},
   "outputs": [
    {
     "data": {
      "text/plain": [
       "Index(['DepTime', 'ArrTime', 'FlightNum', 'ActualElapsedTime', 'ArrDelay',\n",
       "       'tar_var'],\n",
       "      dtype='object')"
      ]
     },
     "execution_count": 35,
     "metadata": {},
     "output_type": "execute_result"
    }
   ],
   "source": [
    "df_num.columns"
   ]
  },
  {
   "cell_type": "code",
   "execution_count": 36,
   "metadata": {},
   "outputs": [],
   "source": [
    "#clean data\n",
    "New_df= df_num"
   ]
  },
  {
   "cell_type": "markdown",
   "metadata": {},
   "source": [
    "TRAIN AND TEST SPLIT OF DATA"
   ]
  },
  {
   "cell_type": "code",
   "execution_count": 37,
   "metadata": {},
   "outputs": [
    {
     "data": {
      "text/plain": [
       "Index(['DepTime', 'ArrTime', 'FlightNum', 'ActualElapsedTime', 'ArrDelay',\n",
       "       'tar_var'],\n",
       "      dtype='object')"
      ]
     },
     "execution_count": 37,
     "metadata": {},
     "output_type": "execute_result"
    }
   ],
   "source": [
    "New_df.columns"
   ]
  },
  {
   "cell_type": "code",
   "execution_count": 38,
   "metadata": {},
   "outputs": [],
   "source": [
    "tar_var = New_df['tar_var']"
   ]
  },
  {
   "cell_type": "code",
   "execution_count": 39,
   "metadata": {},
   "outputs": [],
   "source": [
    "New_df.drop(\"tar_var\", axis=1, inplace=True)"
   ]
  },
  {
   "cell_type": "markdown",
   "metadata": {},
   "source": [
    "SPLITTING NOW"
   ]
  },
  {
   "cell_type": "code",
   "execution_count": 40,
   "metadata": {},
   "outputs": [],
   "source": [
    "from sklearn.model_selection import train_test_split\n",
    "x_train,x_test,y_train,y_test = train_test_split(New_df, tar_var, random_state = 10,test_size = 0.3)"
   ]
  },
  {
   "cell_type": "code",
   "execution_count": 41,
   "metadata": {},
   "outputs": [
    {
     "data": {
      "text/plain": [
       "(721431, 5)"
      ]
     },
     "execution_count": 41,
     "metadata": {},
     "output_type": "execute_result"
    }
   ],
   "source": [
    "x_train.shape"
   ]
  },
  {
   "cell_type": "code",
   "execution_count": 42,
   "metadata": {},
   "outputs": [
    {
     "data": {
      "text/plain": [
       "(721431,)"
      ]
     },
     "execution_count": 42,
     "metadata": {},
     "output_type": "execute_result"
    }
   ],
   "source": [
    "y_train.shape"
   ]
  },
  {
   "cell_type": "code",
   "execution_count": 43,
   "metadata": {},
   "outputs": [
    {
     "data": {
      "text/plain": [
       "(309185, 5)"
      ]
     },
     "execution_count": 43,
     "metadata": {},
     "output_type": "execute_result"
    }
   ],
   "source": [
    "x_test.shape"
   ]
  },
  {
   "cell_type": "code",
   "execution_count": 44,
   "metadata": {},
   "outputs": [
    {
     "data": {
      "text/plain": [
       "(309185,)"
      ]
     },
     "execution_count": 44,
     "metadata": {},
     "output_type": "execute_result"
    }
   ],
   "source": [
    "y_test.shape"
   ]
  },
  {
   "cell_type": "markdown",
   "metadata": {},
   "source": [
    "# BUILDING LOGISTIC MODEL"
   ]
  },
  {
   "cell_type": "code",
   "execution_count": 45,
   "metadata": {},
   "outputs": [
    {
     "name": "stderr",
     "output_type": "stream",
     "text": [
      "C:\\Users\\Nehal Debnath\\Anaconda3\\lib\\site-packages\\sklearn\\linear_model\\logistic.py:432: FutureWarning: Default solver will be changed to 'lbfgs' in 0.22. Specify a solver to silence this warning.\n",
      "  FutureWarning)\n"
     ]
    }
   ],
   "source": [
    "from sklearn.linear_model import LogisticRegression\n",
    "clf= LogisticRegression().fit(x_train, y_train)"
   ]
  },
  {
   "cell_type": "code",
   "execution_count": 46,
   "metadata": {},
   "outputs": [],
   "source": [
    "y_test_pred = clf.predict(x_test)"
   ]
  },
  {
   "cell_type": "markdown",
   "metadata": {},
   "source": [
    "CONFUSION MATRIX"
   ]
  },
  {
   "cell_type": "code",
   "execution_count": 47,
   "metadata": {},
   "outputs": [
    {
     "data": {
      "text/plain": [
       "array([[275290,   3425],\n",
       "       [ 11240,  19230]], dtype=int64)"
      ]
     },
     "execution_count": 47,
     "metadata": {},
     "output_type": "execute_result"
    }
   ],
   "source": [
    "confusion= metrics.confusion_matrix(y_test, y_test_pred)\n",
    "confusion"
   ]
  },
  {
   "cell_type": "code",
   "execution_count": 48,
   "metadata": {},
   "outputs": [
    {
     "data": {
      "text/plain": [
       "0.9525688503646684"
      ]
     },
     "execution_count": 48,
     "metadata": {},
     "output_type": "execute_result"
    }
   ],
   "source": [
    "#Checking Accuracy\n",
    "accuracy =accuracy_score(y_test,y_test_pred)\n",
    "accuracy"
   ]
  },
  {
   "cell_type": "code",
   "execution_count": 49,
   "metadata": {},
   "outputs": [
    {
     "data": {
      "text/plain": [
       "0.6311125697407286"
      ]
     },
     "execution_count": 49,
     "metadata": {},
     "output_type": "execute_result"
    }
   ],
   "source": [
    "sensitivity=(metrics.recall_score(y_test, y_test_pred))\n",
    "sensitivity"
   ]
  },
  {
   "cell_type": "code",
   "execution_count": 50,
   "metadata": {},
   "outputs": [
    {
     "data": {
      "text/plain": [
       "0.8488192451997352"
      ]
     },
     "execution_count": 50,
     "metadata": {},
     "output_type": "execute_result"
    }
   ],
   "source": [
    "precision=(metrics.precision_score(y_test, y_test_pred))\n",
    "precision"
   ]
  },
  {
   "cell_type": "code",
   "execution_count": 51,
   "metadata": {},
   "outputs": [
    {
     "data": {
      "text/plain": [
       "0.7239529411764707"
      ]
     },
     "execution_count": 51,
     "metadata": {},
     "output_type": "execute_result"
    }
   ],
   "source": [
    "F1 = 2 * (precision * sensitivity) / (precision + sensitivity)\n",
    "F1"
   ]
  },
  {
   "cell_type": "code",
   "execution_count": 52,
   "metadata": {},
   "outputs": [
    {
     "name": "stdout",
     "output_type": "stream",
     "text": [
      "Accuracy = 0.9525688503646684\n",
      "precision = 0.8488192451997352\n",
      "Recall = 0.6311125697407286\n",
      "F1= 0.7239529411764707\n"
     ]
    }
   ],
   "source": [
    "#Printing Accuracy, precision, sensitivity and F1 score\n",
    "print('Accuracy =',accuracy)\n",
    "print('precision =',precision)\n",
    "print('Recall =', sensitivity)\n",
    "print('F1=', F1)"
   ]
  },
  {
   "cell_type": "markdown",
   "metadata": {},
   "source": [
    "AUROC CURVE"
   ]
  },
  {
   "cell_type": "code",
   "execution_count": 53,
   "metadata": {},
   "outputs": [
    {
     "data": {
      "image/png": "[encoded data removed]",
      "text/plain": [
       "<Figure size 432x288 with 1 Axes>"
      ]
     },
     "metadata": {
      "needs_background": "light"
     },
     "output_type": "display_data"
    }
   ],
   "source": [
    "def generate_auc_roc_curve(clf, x_test):\n",
    "    y_pred_proba = clf.predict_proba(x_test)[:,1]\n",
    "    fpr, tpr, thresold = roc_curve(y_test, y_pred_proba)\n",
    "    auc = roc_auc_score(y_test , y_pred_proba)\n",
    "    plt.plot(fpr, tpr,label ='AUC ROc Curve with Area Under the curve ='+str(auc))\n",
    "    plt.legend(loc=4)\n",
    "    plt.show()\n",
    "    pass\n",
    "\n",
    "generate_auc_roc_curve(clf , x_test)\n"
   ]
  },
  {
   "cell_type": "markdown",
   "metadata": {},
   "source": [
    "# DECISION TREE"
   ]
  },
  {
   "cell_type": "code",
   "execution_count": 54,
   "metadata": {},
   "outputs": [
    {
     "data": {
      "text/plain": [
       "DecisionTreeClassifier(class_weight=None, criterion='gini', max_depth=None,\n",
       "                       max_features=None, max_leaf_nodes=None,\n",
       "                       min_impurity_decrease=0.0, min_impurity_split=None,\n",
       "                       min_samples_leaf=1, min_samples_split=2,\n",
       "                       min_weight_fraction_leaf=0.0, presort=False,\n",
       "                       random_state=0, splitter='best')"
      ]
     },
     "execution_count": 54,
     "metadata": {},
     "output_type": "execute_result"
    }
   ],
   "source": [
    "from sklearn.tree import DecisionTreeClassifier\n",
    "dt = DecisionTreeClassifier(random_state=0)\n",
    "dt.fit(x_train, y_train)"
   ]
  },
  {
   "cell_type": "markdown",
   "metadata": {},
   "source": [
    "FEATURE IMPORTANCE"
   ]
  },
  {
   "cell_type": "code",
   "execution_count": 55,
   "metadata": {},
   "outputs": [
    {
     "data": {
      "text/plain": [
       "array([0.09800941, 0.08622314, 0.10044647, 0.10805279, 0.60726819])"
      ]
     },
     "execution_count": 55,
     "metadata": {},
     "output_type": "execute_result"
    }
   ],
   "source": [
    "dt.feature_importances_"
   ]
  },
  {
   "cell_type": "code",
   "execution_count": 56,
   "metadata": {},
   "outputs": [
    {
     "data": {
      "text/html": [
       "<div>\n",
       "<style scoped>\n",
       "    .dataframe tbody tr th:only-of-type {\n",
       "        vertical-align: middle;\n",
       "    }\n",
       "\n",
       "    .dataframe tbody tr th {\n",
       "        vertical-align: top;\n",
       "    }\n",
       "\n",
       "    .dataframe thead th {\n",
       "        text-align: right;\n",
       "    }\n",
       "</style>\n",
       "<table border=\"1\" class=\"dataframe\">\n",
       "  <thead>\n",
       "    <tr style=\"text-align: right;\">\n",
       "      <th></th>\n",
       "      <th>Variable</th>\n",
       "      <th>Score</th>\n",
       "    </tr>\n",
       "  </thead>\n",
       "  <tbody>\n",
       "    <tr>\n",
       "      <td>4</td>\n",
       "      <td>ArrDelay</td>\n",
       "      <td>0.607268</td>\n",
       "    </tr>\n",
       "    <tr>\n",
       "      <td>3</td>\n",
       "      <td>ActualElapsedTime</td>\n",
       "      <td>0.108053</td>\n",
       "    </tr>\n",
       "    <tr>\n",
       "      <td>2</td>\n",
       "      <td>FlightNum</td>\n",
       "      <td>0.100446</td>\n",
       "    </tr>\n",
       "    <tr>\n",
       "      <td>0</td>\n",
       "      <td>DepTime</td>\n",
       "      <td>0.098009</td>\n",
       "    </tr>\n",
       "    <tr>\n",
       "      <td>1</td>\n",
       "      <td>ArrTime</td>\n",
       "      <td>0.086223</td>\n",
       "    </tr>\n",
       "  </tbody>\n",
       "</table>\n",
       "</div>"
      ],
      "text/plain": [
       "            Variable     Score\n",
       "4           ArrDelay  0.607268\n",
       "3  ActualElapsedTime  0.108053\n",
       "2          FlightNum  0.100446\n",
       "0            DepTime  0.098009\n",
       "1            ArrTime  0.086223"
      ]
     },
     "execution_count": 56,
     "metadata": {},
     "output_type": "execute_result"
    }
   ],
   "source": [
    "var_imp = pd.DataFrame({\"Variable\" :x_train.columns,\"Score\" : dt.feature_importances_})\n",
    "var_imp.sort_values(\"Score\" , ascending = False)"
   ]
  },
  {
   "cell_type": "code",
   "execution_count": 57,
   "metadata": {},
   "outputs": [],
   "source": [
    "#Making Predictions\n",
    "y_test_pred= dt.predict(x_test)"
   ]
  },
  {
   "cell_type": "code",
   "execution_count": 58,
   "metadata": {},
   "outputs": [
    {
     "data": {
      "text/plain": [
       "array([[270338,   8377],\n",
       "       [  8605,  21865]], dtype=int64)"
      ]
     },
     "execution_count": 58,
     "metadata": {},
     "output_type": "execute_result"
    }
   ],
   "source": [
    "#confusion matrix\n",
    "confusion1=confusion_matrix(y_test,y_test_pred)\n",
    "confusion1"
   ]
  },
  {
   "cell_type": "code",
   "execution_count": 59,
   "metadata": {},
   "outputs": [],
   "source": [
    "#Checking Accuracy\n",
    "accuracy=accuracy_score(y_test,y_test_pred)\n",
    "sensitivity=(metrics.recall_score(y_test, y_test_pred))\n",
    "precision=(metrics.precision_score(y_test, y_test_pred))\n",
    "F1 = 2 * (precision * sensitivity) / (precision + sensitivity)"
   ]
  },
  {
   "cell_type": "markdown",
   "metadata": {},
   "source": [
    "PRINTING ACCURACY PRECISION RECALL AND F1 SCORE OF DECISION TREE"
   ]
  },
  {
   "cell_type": "code",
   "execution_count": 60,
   "metadata": {},
   "outputs": [
    {
     "name": "stdout",
     "output_type": "stream",
     "text": [
      "Accuracy = 0.9450749551239549\n",
      "precision = 0.7230011242642682\n",
      "Recall = 0.7175910731867411\n",
      "F1= 0.7202859401765712\n"
     ]
    }
   ],
   "source": [
    "print('Accuracy =',accuracy)\n",
    "print('precision =',precision)\n",
    "print('Recall =', sensitivity)\n",
    "print('F1=', F1)"
   ]
  },
  {
   "cell_type": "code",
   "execution_count": 61,
   "metadata": {},
   "outputs": [
    {
     "data": {
      "image/png": "[encoded data removed]",
      "text/plain": [
       "<Figure size 432x288 with 1 Axes>"
      ]
     },
     "metadata": {
      "needs_background": "light"
     },
     "output_type": "display_data"
    }
   ],
   "source": [
    "#Auc roc curve of Decision Tree\n",
    "def generate_auc_roc_curve(dt , x_test):\n",
    "    y_pred_proba = dt.predict_proba(x_test)[:,1]\n",
    "    fpr, tpr, thresold = roc_curve(y_test, y_pred_proba)\n",
    "    auc = roc_auc_score(y_test , y_pred_proba)\n",
    "    plt.plot(fpr, tpr,label ='AUC ROc Curve with Area Under the curve ='+str(auc))\n",
    "    plt.legend(loc=4)\n",
    "    plt.show()\n",
    "    pass\n",
    "\n",
    "generate_auc_roc_curve(dt , x_test)"
   ]
  },
  {
   "cell_type": "markdown",
   "metadata": {},
   "source": [
    "# RANDOM FOREST"
   ]
  },
  {
   "cell_type": "code",
   "execution_count": 62,
   "metadata": {},
   "outputs": [
    {
     "name": "stderr",
     "output_type": "stream",
     "text": [
      "C:\\Users\\Nehal Debnath\\Anaconda3\\lib\\site-packages\\sklearn\\ensemble\\forest.py:245: FutureWarning: The default value of n_estimators will change from 10 in version 0.20 to 100 in 0.22.\n",
      "  \"10 in version 0.20 to 100 in 0.22.\", FutureWarning)\n"
     ]
    }
   ],
   "source": [
    "from sklearn.ensemble import RandomForestClassifier\n",
    "rf =RandomForestClassifier().fit(x_train,y_train)"
   ]
  },
  {
   "cell_type": "code",
   "execution_count": 63,
   "metadata": {},
   "outputs": [
    {
     "data": {
      "text/plain": [
       "array([0.1075076 , 0.09190042, 0.09136682, 0.10267096, 0.6065542 ])"
      ]
     },
     "execution_count": 63,
     "metadata": {},
     "output_type": "execute_result"
    }
   ],
   "source": [
    "rf.feature_importances_"
   ]
  },
  {
   "cell_type": "code",
   "execution_count": 64,
   "metadata": {},
   "outputs": [
    {
     "data": {
      "text/html": [
       "<div>\n",
       "<style scoped>\n",
       "    .dataframe tbody tr th:only-of-type {\n",
       "        vertical-align: middle;\n",
       "    }\n",
       "\n",
       "    .dataframe tbody tr th {\n",
       "        vertical-align: top;\n",
       "    }\n",
       "\n",
       "    .dataframe thead th {\n",
       "        text-align: right;\n",
       "    }\n",
       "</style>\n",
       "<table border=\"1\" class=\"dataframe\">\n",
       "  <thead>\n",
       "    <tr style=\"text-align: right;\">\n",
       "      <th></th>\n",
       "      <th>Variable</th>\n",
       "      <th>Score</th>\n",
       "    </tr>\n",
       "  </thead>\n",
       "  <tbody>\n",
       "    <tr>\n",
       "      <td>4</td>\n",
       "      <td>ArrDelay</td>\n",
       "      <td>0.606554</td>\n",
       "    </tr>\n",
       "    <tr>\n",
       "      <td>0</td>\n",
       "      <td>DepTime</td>\n",
       "      <td>0.107508</td>\n",
       "    </tr>\n",
       "    <tr>\n",
       "      <td>3</td>\n",
       "      <td>ActualElapsedTime</td>\n",
       "      <td>0.102671</td>\n",
       "    </tr>\n",
       "    <tr>\n",
       "      <td>1</td>\n",
       "      <td>ArrTime</td>\n",
       "      <td>0.091900</td>\n",
       "    </tr>\n",
       "    <tr>\n",
       "      <td>2</td>\n",
       "      <td>FlightNum</td>\n",
       "      <td>0.091367</td>\n",
       "    </tr>\n",
       "  </tbody>\n",
       "</table>\n",
       "</div>"
      ],
      "text/plain": [
       "            Variable     Score\n",
       "4           ArrDelay  0.606554\n",
       "0            DepTime  0.107508\n",
       "3  ActualElapsedTime  0.102671\n",
       "1            ArrTime  0.091900\n",
       "2          FlightNum  0.091367"
      ]
     },
     "execution_count": 64,
     "metadata": {},
     "output_type": "execute_result"
    }
   ],
   "source": [
    "var_imp = pd.DataFrame({\"Variable\" :x_train.columns,\"Score\" : rf.feature_importances_})\n",
    "var_imp.sort_values(\"Score\" , ascending = False)"
   ]
  },
  {
   "cell_type": "code",
   "execution_count": 65,
   "metadata": {},
   "outputs": [
    {
     "data": {
      "text/plain": [
       "1.0"
      ]
     },
     "execution_count": 65,
     "metadata": {},
     "output_type": "execute_result"
    }
   ],
   "source": [
    "#THIS MEANS THAT ALL THE FEATURES ADD UP TO 1.\n",
    "rf.feature_importances_.sum()"
   ]
  },
  {
   "cell_type": "code",
   "execution_count": 66,
   "metadata": {},
   "outputs": [],
   "source": [
    "#Making Predictions\n",
    "y_test_pred= rf.predict(x_test)"
   ]
  },
  {
   "cell_type": "code",
   "execution_count": 67,
   "metadata": {},
   "outputs": [
    {
     "data": {
      "text/plain": [
       "array([[275124,   3591],\n",
       "       [  8831,  21639]], dtype=int64)"
      ]
     },
     "execution_count": 67,
     "metadata": {},
     "output_type": "execute_result"
    }
   ],
   "source": [
    "#confusion matrix\n",
    "confusion1=confusion_matrix(y_test,y_test_pred)\n",
    "confusion1"
   ]
  },
  {
   "cell_type": "code",
   "execution_count": 68,
   "metadata": {},
   "outputs": [],
   "source": [
    "#Checking Accuracy\n",
    "accuracy=accuracy_score(y_test,y_test_pred)\n",
    "sensitivity=(metrics.recall_score(y_test, y_test_pred))\n",
    "precision=(metrics.precision_score(y_test, y_test_pred))\n",
    "F1 = 2 * (precision * sensitivity) / (precision + sensitivity)"
   ]
  },
  {
   "cell_type": "code",
   "execution_count": 69,
   "metadata": {},
   "outputs": [
    {
     "name": "stdout",
     "output_type": "stream",
     "text": [
      "Accuracy = 0.959823406698255\n",
      "precision = 0.8576694411414982\n",
      "Recall = 0.7101739415818838\n",
      "F1= 0.776983842010772\n"
     ]
    }
   ],
   "source": [
    "#Printing accuracy precision recall and f1 score of Random forest\n",
    "print('Accuracy =',accuracy)\n",
    "print('precision =',precision)\n",
    "print('Recall =', sensitivity)\n",
    "print('F1=', F1)"
   ]
  },
  {
   "cell_type": "code",
   "execution_count": 70,
   "metadata": {},
   "outputs": [
    {
     "data": {
      "image/png": "[encoded data removed]",
      "text/plain": [
       "<Figure size 432x288 with 1 Axes>"
      ]
     },
     "metadata": {
      "needs_background": "light"
     },
     "output_type": "display_data"
    }
   ],
   "source": [
    "#Auroc curve of Random Forest\n",
    "def generate_auc_roc_curve(rf, x_test):\n",
    "    y_pred_proba = rf.predict_proba(x_test)[:,1]\n",
    "    fpr, tpr, thresold = roc_curve(y_test, y_pred_proba)\n",
    "    auc = roc_auc_score(y_test , y_pred_proba)\n",
    "    plt.plot(fpr, tpr,label ='AUC ROc Curve with Area Under the curve ='+str(auc))\n",
    "    plt.legend(loc=4)\n",
    "    plt.show()\n",
    "    pass\n",
    "\n",
    "generate_auc_roc_curve(rf , x_test)"
   ]
  },
  {
   "cell_type": "code",
   "execution_count": null,
   "metadata": {},
   "outputs": [],
   "source": []
  }
 ],
 "metadata": {
  "kernelspec": {
   "display_name": "Python 3",
   "language": "python",
   "name": "python3"
  },
  "language_info": {
   "codemirror_mode": {
    "name": "ipython",
    "version": 3
   },
   "file_extension": ".py",
   "mimetype": "text/x-python",
   "name": "python",
   "nbconvert_exporter": "python",
   "pygments_lexer": "ipython3",
   "version": "3.7.4"
  }
 },
 "nbformat": 4,
 "nbformat_minor": 2
}
